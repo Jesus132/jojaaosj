{
 "cells": [
  {
   "cell_type": "code",
   "execution_count": 105,
   "metadata": {},
   "outputs": [],
   "source": [
    "import numpy as np\n",
    "from math import exp"
   ]
  },
  {
   "cell_type": "code",
   "execution_count": 106,
   "metadata": {},
   "outputs": [],
   "source": [
    "def logistic(z):\n",
    "    g = 1/(1+exp(-z))\n",
    "    return g"
   ]
  },
  {
   "cell_type": "code",
   "execution_count": 110,
   "metadata": {},
   "outputs": [],
   "source": [
    "def CrossEntropy(yHat, y):\n",
    "    error = 0\n",
    "    for i in range(len(yHat)):\n",
    "        if (y[i] == 1):\n",
    "            error += -np.log(y[i])\n",
    "        else:\n",
    "            error += -np.log(1 - y[i])\n",
    "    return error"
   ]
  },
  {
   "cell_type": "code",
   "execution_count": 111,
   "metadata": {},
   "outputs": [],
   "source": [
    "dataSet = np.loadtxt('grades_data.txt' ,dtype=float, delimiter=',')\n",
    "alpha = 0.00005\n",
    "p70 = int(len(dataSet)*0.7)\n",
    "p30 =  len(dataSet)-p70\n",
    "data70 = dataSet[:p70,:]\n",
    "data30 = dataSet[p70:,:]\n",
    "x_train = data70[:,0:2]\n",
    "x_train = np.c_[np.ones(p70),x_train]\n",
    "y_train = data70[:,2]\n",
    "x_test = data30[:,0:2]\n",
    "x_test = np.c_[np.ones(p30),x_test]\n",
    "y_test = data30[:,2]\n",
    "thetas = np.zeros(len(x_train[0]))"
   ]
  },
  {
   "cell_type": "code",
   "execution_count": 113,
   "metadata": {
    "scrolled": false
   },
   "outputs": [
    {
     "name": "stdout",
     "output_type": "stream",
     "text": [
      "Outputs:\n",
      "\n",
      "Real output: 0| Approximate model output: 0\n",
      "\n",
      "Real output: 1| Approximate model output: 1\n",
      "\n",
      "Real output: 1| Approximate model output: 1\n",
      "\n",
      "Real output: 1| Approximate model output: 1\n",
      "\n",
      "Real output: 1| Approximate model output: 1\n",
      "\n",
      "Real output: 1| Approximate model output: 1\n",
      "\n",
      "Real output: 1| Approximate model output: 1\n",
      "\n",
      "Real output: 1| Approximate model output: 1\n",
      "\n",
      "Real output: 0| Approximate model output: 1\n",
      "\n",
      "Real output: 0| Approximate model output: 1\n",
      "\n",
      "Real output: 1| Approximate model output: 1\n",
      "\n",
      "Real output: 1| Approximate model output: 1\n",
      "\n",
      "Real output: 1| Approximate model output: 1\n",
      "\n",
      "Real output: 1| Approximate model output: 1\n",
      "\n",
      "Real output: 1| Approximate model output: 1\n",
      "\n",
      "Real output: 1| Approximate model output: 1\n",
      "\n",
      "Real output: 0| Approximate model output: 1\n",
      "\n",
      "Real output: 1| Approximate model output: 1\n",
      "\n",
      "Real output: 1| Approximate model output: 1\n",
      "\n",
      "Real output: 0| Approximate model output: 1\n",
      "\n",
      "Real output: 1| Approximate model output: 1\n",
      "\n",
      "Real output: 1| Approximate model output: 1\n",
      "\n",
      "Real output: 0| Approximate model output: 1\n",
      "\n",
      "Real output: 1| Approximate model output: 1\n",
      "\n",
      "Real output: 1| Approximate model output: 1\n",
      "\n",
      "Real output: 1| Approximate model output: 1\n",
      "\n",
      "Real output: 1| Approximate model output: 1\n",
      "\n",
      "Real output: 1| Approximate model output: 1\n",
      "\n",
      "Real output: 1| Approximate model output: 1\n",
      "\n",
      "Real output: 1| Approximate model output: 1\n",
      "\n",
      "\n",
      "Cross entropy error: 32.69746178644658\n"
     ]
    }
   ],
   "source": [
    "for it in range(200000):   \n",
    "    copy = np.copy(thetas)\n",
    "    for j in range(len(thetas)):\n",
    "        suma = 0\n",
    "        for i in range(p70):\n",
    "            h = thetas[0]*x_train[i][0] + thetas[1]*x_train[i][1] + thetas[2]*x_train[i][2]\n",
    "            suma += (h-y_train[i])*x_train[i][j]\n",
    "\n",
    "        copy[j] = thetas[j]  - alpha*(1/p70)*(suma)\n",
    "    thetas = np.copy(copy)\n",
    "h = []\n",
    "\n",
    "print(\"Outputs:\\n\")\n",
    "for i in range(p30):\n",
    "    z = ((thetas.T)@x_test[i])\n",
    "    aux = logistic(z)\n",
    "    if(aux>0.50):\n",
    "        h.append(aux)  \n",
    "        aux = 1\n",
    "    else:\n",
    "        h.append(aux)\n",
    "        aux = 0   \n",
    "        \n",
    "    print(\"Real output: \"+str(int(y_test[i]))+\"| Approximate model output: \"+str(aux)+\"\\n\")\n",
    "\n",
    "print(\"\\nCross entropy error:\",CrossEntropy(y_test[:],h[:]))"
   ]
  },
  {
   "cell_type": "code",
   "execution_count": null,
   "metadata": {},
   "outputs": [],
   "source": []
  },
  {
   "cell_type": "code",
   "execution_count": null,
   "metadata": {},
   "outputs": [],
   "source": []
  }
 ],
 "metadata": {
  "kernelspec": {
   "display_name": "Python 3",
   "language": "python",
   "name": "python3"
  },
  "language_info": {
   "codemirror_mode": {
    "name": "ipython",
    "version": 3
   },
   "file_extension": ".py",
   "mimetype": "text/x-python",
   "name": "python",
   "nbconvert_exporter": "python",
   "pygments_lexer": "ipython3",
   "version": "3.7.1"
  }
 },
 "nbformat": 4,
 "nbformat_minor": 2
}
