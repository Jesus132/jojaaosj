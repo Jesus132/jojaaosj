{
 "cells": [
  {
   "cell_type": "markdown",
   "metadata": {},
   "source": [
    "# Regresión lineal - Ecuaciones normales"
   ]
  },
  {
   "cell_type": "code",
   "execution_count": 1,
   "metadata": {},
   "outputs": [
    {
     "ename": "FileNotFoundError",
     "evalue": "[Errno 2] No such file or directory: 'fish_length.txt'",
     "output_type": "error",
     "traceback": [
      "\u001b[0;31m---------------------------------------------------------------------------\u001b[0m",
      "\u001b[0;31mFileNotFoundError\u001b[0m                         Traceback (most recent call last)",
      "\u001b[0;32m<ipython-input-1-73974001e3af>\u001b[0m in \u001b[0;36m<module>\u001b[0;34m\u001b[0m\n\u001b[1;32m     15\u001b[0m         \u001b[0mY\u001b[0m\u001b[0;34m,\u001b[0m \u001b[0my\u001b[0m\u001b[0;34m=\u001b[0m\u001b[0;34m[\u001b[0m\u001b[0;34m]\u001b[0m\u001b[0;34m,\u001b[0m \u001b[0;34m[\u001b[0m\u001b[0;34m]\u001b[0m\u001b[0;31m#Y para los del 70% y y para los del 30%\u001b[0m\u001b[0;34m\u001b[0m\u001b[0;34m\u001b[0m\u001b[0m\n\u001b[1;32m     16\u001b[0m         \u001b[0mTetaY\u001b[0m\u001b[0;34m,\u001b[0m \u001b[0mNormTetaY\u001b[0m\u001b[0;34m,\u001b[0m \u001b[0mE\u001b[0m\u001b[0;34m,\u001b[0m \u001b[0mNormE\u001b[0m\u001b[0;34m=\u001b[0m\u001b[0;34m[\u001b[0m\u001b[0;34m]\u001b[0m\u001b[0;34m,\u001b[0m \u001b[0;34m[\u001b[0m\u001b[0;34m]\u001b[0m\u001b[0;34m,\u001b[0m \u001b[0;34m[\u001b[0m\u001b[0;34m]\u001b[0m\u001b[0;34m,\u001b[0m \u001b[0;34m[\u001b[0m\u001b[0;34m]\u001b[0m\u001b[0;31m#Para hacer las operaciones individuales aunque en una linea sale igual\u001b[0m\u001b[0;34m\u001b[0m\u001b[0;34m\u001b[0m\u001b[0m\n\u001b[0;32m---> 17\u001b[0;31m         \u001b[0mdata\u001b[0m\u001b[0;34m=\u001b[0m\u001b[0mopen\u001b[0m\u001b[0;34m(\u001b[0m\u001b[0;34m\"fish_length.txt\"\u001b[0m\u001b[0;34m)\u001b[0m\u001b[0;31m#Libreria de numpy que te jala los datos del .txt\u001b[0m\u001b[0;34m\u001b[0m\u001b[0;34m\u001b[0m\u001b[0m\n\u001b[0m\u001b[1;32m     18\u001b[0m         \u001b[0maX\u001b[0m \u001b[0;34m=\u001b[0m \u001b[0mnp\u001b[0m\u001b[0;34m.\u001b[0m\u001b[0mloadtxt\u001b[0m\u001b[0;34m(\u001b[0m\u001b[0mdata\u001b[0m\u001b[0;34m)\u001b[0m\u001b[0;31m#Guardamos los datos de un .txt en una np.array\u001b[0m\u001b[0;34m\u001b[0m\u001b[0;34m\u001b[0m\u001b[0m\n\u001b[1;32m     19\u001b[0m         \u001b[0mnp\u001b[0m\u001b[0;34m.\u001b[0m\u001b[0mrandom\u001b[0m\u001b[0;34m.\u001b[0m\u001b[0mshuffle\u001b[0m\u001b[0;34m(\u001b[0m\u001b[0maX\u001b[0m\u001b[0;34m)\u001b[0m\u001b[0;31m#Desordenamos las listas de la matriz\u001b[0m\u001b[0;34m\u001b[0m\u001b[0;34m\u001b[0m\u001b[0m\n",
      "\u001b[0;31mFileNotFoundError\u001b[0m: [Errno 2] No such file or directory: 'fish_length.txt'"
     ]
    }
   ],
   "source": [
    "import numpy as np\n",
    "\n",
    "def Normalizar(lista):\n",
    "\tNormList=[]\n",
    "\tfor i in lista:\n",
    "\t\taux=[]\n",
    "\t\tU=sum(i)/len(i)\n",
    "\t\tfor j in i:\n",
    "\t\t\taux.append((j-U)/(max(i)-min(i)))\n",
    "\t\tNormList.append(aux)\n",
    "\treturn NormList\n",
    "\n",
    "if __name__ == '__main__':\n",
    "\tX, x=[], []#X para guardar los del 70% y x para los del 30%\n",
    "\tY, y=[], []#Y para los del 70% y y para los del 30%\n",
    "\tTetaY, NormTetaY, E, NormE=[], [], [], []#Para hacer las operaciones individuales aunque en una linea sale igual\n",
    "\tdata=open(\"fish_length.txt\")#Libreria de numpy que te jala los datos del .txt\n",
    "\taX = np.loadtxt(data)#Guardamos los datos de un .txt en una np.array\n",
    "\tnp.random.shuffle(aX)#Desordenamos las listas de la matriz\n",
    "\tfor i in range(len(aX)):#Recorremos la lista\n",
    "\t\tif(i < round(0.7*len(aX))):#los primeros 31 elementos lo guardara en X y Y\n",
    "\t\t\tX.append([1] + list(aX[i][:2]))\n",
    "\t\t\tY.append(aX[i][-1])\n",
    "\t\telse:#los ultimos 13 lo guardara en x y y\n",
    "\t\t\tx.append([1] + list(aX[i][:2]))\n",
    "\t\t\ty.append(aX[i][-1])\n",
    "\t#Pasamos las listas a np.array para el uso de sus funciones\n",
    "\tNPX=np.array(X)\n",
    "\tNPY=np.array(Y)\n",
    "\tXT=NPX.transpose()\n",
    "\tXTX=np.dot(XT,NPX)\n",
    "\tInverse=np.linalg.inv(XTX)\n",
    "\tOtherSide=np.dot(XT,NPY)\n",
    "\tTeta=np.dot(Inverse,OtherSide)\n",
    "\tNPx=np.array(x)#usamos la del 30% para evaluar los datos\n",
    "\n",
    "\tTetaUna=np.dot(np.linalg.inv(np.dot(NPX.transpose(),NPX)),np.dot(NPX.transpose(),NPY))\n",
    "\n",
    "\tfor i in NPx:#Recorremos los 13 datos a evaluar por las tetas obtenidas del 70%\n",
    "\t\tTetaY.append(i[0]*Teta[0] + i[1] * Teta[1] + i[2] * Teta[2])#Guardamos el valor de la multiplicacion en una lista\n",
    "\t#Lo mismo que la linea 29-41 pero normalizando datos\n",
    "\tNormX=np.array(Normalizar(X))\n",
    "\tNormXT=NormX.transpose()\n",
    "\tNormInverse=np.linalg.inv(np.dot(NormXT,NormX))\n",
    "\tNormOtherSide=np.dot(NormXT,NPY)\n",
    "\tNormTeta=np.dot(NormInverse,NormOtherSide)\n",
    "\tNormx=Normalizar(x)\n",
    "\tfor i in Normx:\n",
    "\t\tNormTetaY.append(i[0]*NormTeta[0] + i[1] * NormTeta[1] + i[2] * NormTeta[2])\n",
    "\t#Imprimimos datos para ver que tanto se logro predecir\n",
    "\tprint(\"-----------------------Tamanio del 30%-----------------------\\n\",y)\n",
    "\tprint(\"-----------------------Predicion del tamanio-----------------------\\n\", TetaY)\n",
    "\tprint(\"-----------------------Predicion del tamanio normalizado-----------------------\\n\",NormTetaY)\n",
    "\tfor i in range(len(y)):#Recorremos la lista para calcular los errores cada uno se agrega en una lista diferente\n",
    "\t\tE.append((TetaY[i] - y[i])**2)\n",
    "\t\tNormE.append((NormTetaY[i] - y[i])**2)\n",
    "\tprint(\"\\n----------------------------------------------------------------------------------------------\")\n",
    "\tprint(\"Teta: \", Teta)\n",
    "\tprint(\"Error: \", round(sum(E)/len(aX)))#la suma de la resta de h con y al cuadrado entre el numero de datos es el error\n",
    "\t#print(\"TetaUna: \", TetaUna)\n",
    "\tprint(\"Teta Normalizada:: \", NormTeta)\n",
    "\tprint(\"Error Normalizado: \", sum(NormE)/len(aX))"
   ]
  },
  {
   "cell_type": "code",
   "execution_count": null,
   "metadata": {},
   "outputs": [],
   "source": []
  }
 ],
 "metadata": {
  "kernelspec": {
   "display_name": "Python 3",
   "language": "python",
   "name": "python3"
  },
  "language_info": {
   "codemirror_mode": {
    "name": "ipython",
    "version": 3
   },
   "file_extension": ".py",
   "mimetype": "text/x-python",
   "name": "python",
   "nbconvert_exporter": "python",
   "pygments_lexer": "ipython3",
   "version": "3.7.3"
  }
 },
 "nbformat": 4,
 "nbformat_minor": 4
}
