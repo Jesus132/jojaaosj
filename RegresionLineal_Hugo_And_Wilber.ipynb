{
 "cells": [
  {
   "cell_type": "code",
   "execution_count": 1,
   "metadata": {},
   "outputs": [],
   "source": [
    "#Integrantes:\n",
    "#Hugo Pérez Guerrero\n",
    "#Wilber Andrés Cajamarca "
   ]
  },
  {
   "cell_type": "code",
   "execution_count": 2,
   "metadata": {},
   "outputs": [],
   "source": [
    "import numpy as np \n",
    "import pandas as pd\n",
    "from math import sqrt\n"
   ]
  },
  {
   "cell_type": "code",
   "execution_count": 3,
   "metadata": {},
   "outputs": [],
   "source": [
    "def dataSet():\n",
    "\n",
    "    with open ('fish_length.txt','r') as f:\n",
    "        lines = f.readlines()\n",
    "    lines=[line.replace('  ', ',') for line in lines]\n",
    "    with open('fish_length.txt', 'w') as f:\n",
    "        f.writelines(lines)\n",
    "    data =  np.loadtxt(\"fish_length.txt\", delimiter =\",\",dtype=None)\n",
    "    \n",
    "    edad=data[:,0]\n",
    "    temperatura=data[:,1]\n",
    "    largo=data[:,2]\n",
    "\n",
    "    return edad,temperatura,largo"
   ]
  },
  {
   "cell_type": "code",
   "execution_count": 4,
   "metadata": {},
   "outputs": [],
   "source": [
    "def datosNormalizados(X):\n",
    "    \n",
    "    normalizacion= []\n",
    "    for i in X:\n",
    "        norma = (i - (sum(X)/len(X))) / (max(X) - min(X))\n",
    "        normalizacion.append(norma)\n",
    "    return normalizacion"
   ]
  },
  {
   "cell_type": "code",
   "execution_count": 5,
   "metadata": {},
   "outputs": [],
   "source": [
    "def DivisionDatos(lista):\n",
    "    #División de datos\n",
    "    entrenamiento= round(len(lista)*0.7) #70%para entrenamiento\n",
    "    #print (entrenamiento)\n",
    "    #print (len(lista))\n",
    "    entre_70=[]\n",
    "    eval_30=[]\n",
    "\n",
    "    for i in range(len(lista)):    \n",
    "        if(i < entrenamiento):\n",
    "            entre_70.append(lista[i])\n",
    "\n",
    "        elif(i>=entrenamiento):\n",
    "            eval_30.append(lista[i])\n",
    "\n",
    "    entrenamiento70= np.array(entre_70)\n",
    "    evaluacion_30 = np.array(eval_30)\n",
    "\n",
    "    return entrenamiento70,evaluacion_30"
   ]
  },
  {
   "cell_type": "code",
   "execution_count": 6,
   "metadata": {},
   "outputs": [],
   "source": [
    "def GradienteDescendiente(teta0,teta1,teta2,alpha,X0,X1,X2,Y):\n",
    "    N=len(X0)#31\n",
    "\n",
    "    #x_entree= [unos//edad//temperatura]\n",
    "    x_entre=np.c_[X0,X1,X2]\n",
    "    \"\"\"\n",
    "    print(\"\\nProbando lo de gradiente : \")\n",
    "    for i in range (N):\n",
    "        print(x_entre[i][1])\n",
    "    \"\"\"\n",
    "    teta0=np.array(0.0)\n",
    "    teta1=np.array(0.0)\n",
    "    teta2=np.array(0.0)\n",
    "    teta_new=np.c_[teta0,teta1,teta2]\n",
    "    #print(teta_new.shape)\n",
    "    \"\"\"\n",
    "    for i in range (0,3):\n",
    "        print(\"teta new: \",teta_new[0][i])\n",
    "    \n",
    "    print(\"\\nProbando las tetas nuevas : \")\n",
    "    for i in range (2):\n",
    "        print(teta_new[i][1])\n",
    "    \"\"\"\n",
    "    teta0_temp=0.0\n",
    "    teta1_temp=0.0\n",
    "    teta2_temp=0.0\n",
    "    teta_temp=np.c_[teta0_temp,teta1_temp,teta2_temp]\n",
    "    #print(teta_temp.shape)\n",
    "    \"\"\"\n",
    "    for i in range(0,3):\n",
    "        print (\" teta_temp: \",teta_temp[0][i])\n",
    "    \"\"\"\n",
    "\n",
    "    suma=0\n",
    "    for iteraciones in range(4200):\n",
    "        for j in range(0,3):#tres tetas\n",
    "            for i in range(N):#31 valores de entrenamiento \n",
    "                h=teta_new[0][j]*x_entre[i][0]+teta_new[0][j]*x_entre[i][1]+teta_new[0][j]*x_entre[i][2]\n",
    "                suma+= (h-Y[i])*x_entre[i][j]\n",
    "                \n",
    "            \n",
    "            teta_temp[0][j]=teta_new[0][j] - alpha*(1/N)*(suma)\n",
    "            teta_new[0][j]=teta_temp[0][j]\n",
    "        \n",
    "     \n",
    "    return teta_new\n",
    "        \n",
    "\n",
    "    #teta=tetaj- alpha*"
   ]
  },
  {
   "cell_type": "code",
   "execution_count": 7,
   "metadata": {},
   "outputs": [
    {
     "name": "stdout",
     "output_type": "stream",
     "text": [
      "[[1838.68201483 1840.86186404 1830.04920475]]\n",
      "\n",
      "listado de largo para evaluar:  [4565. 4566.  590. 1205. 1915. 2140. 2710. 3020. 3030. 3040. 3180. 3257.\n",
      " 3214.]\n",
      "\n",
      "listado de las h(xi):  [2882.9244762639905, 3068.3350237215896, 1837.4895612607063, 2022.9001087183055, 2195.067045643219, 2380.477593100818, 2565.888140558417, 2751.2986880160165, 2936.7092354736155, 3122.1197829312146, 3307.5303303888136, 3492.940877846413, 3678.351425304012]\n",
      "\n",
      "Error cuadrático medio:  602292.7725104312\n"
     ]
    }
   ],
   "source": [
    "if __name__ == \"__main__\":\n",
    "    edad,temperatura,largo=dataSet()\n",
    "    \n",
    "\n",
    "    #Normalización de datos\n",
    "    edad_norm=datosNormalizados(edad)\n",
    "    temp_norm=datosNormalizados(temperatura)\n",
    "    largo_norm=datosNormalizados(largo)\n",
    "\n",
    "    #inicialización de las variables\n",
    "    x0=np.ones(len(edad))#generar los unos\n",
    "    alpha=0.00001\n",
    "    teta0=np.array(0)\n",
    "    teta1=np.array(0)\n",
    "    teta2=np.array(0)\n",
    "    entrenamiento= round(len(edad)*0.7) #70%para entrenamiento\n",
    "    evaluacion=(len(edad)-entrenamiento)#el resto, o sea 30%, para la evaluación\n",
    "    \n",
    "    #Division de datos(entrenamiento y evaluación)\n",
    "    x0_entre,x0_evalua=DivisionDatos(x0)\n",
    "    edad_entre,edad_evalua=DivisionDatos(edad_norm)\n",
    "    temp_entre,temp_evalua=DivisionDatos(temp_norm)\n",
    "    largo_entre,largo_evalua=DivisionDatos(largo)\n",
    "    \n",
    "    #Gradiente descendiente\n",
    "    teta_test=np.array(GradienteDescendiente(teta0,teta1,teta2,alpha,x0_entre,edad_entre,temp_entre,largo_entre))\n",
    "\n",
    "    print(teta_test)\n",
    "\n",
    "    h = []\n",
    "    \n",
    "    for i in range(evaluacion):\n",
    "        model = teta_test[0][0]*x0_evalua[i] + teta_test[0][1]*edad_evalua[i]+teta_test[0][2]*temp_evalua[i]\n",
    "        h.append(model)\n",
    "    print(\"\\nlistado de largo para evaluar: \",largo_evalua)\n",
    "    print(\"\\nlistado de las h(xi): \",h)\n",
    "    error = 0\n",
    "    for i in range(evaluacion):\n",
    "        error = error + (h[i]-largo_evalua[i])**2  \n",
    "    error_cuadratico = (error/evaluacion)\n",
    "    print(\"\\nError cuadrático medio: \",error_cuadratico)\n"
   ]
  }
 ],
 "metadata": {
  "kernelspec": {
   "display_name": "Python 3",
   "language": "python",
   "name": "python3"
  },
  "language_info": {
   "codemirror_mode": {
    "name": "ipython",
    "version": 3
   },
   "file_extension": ".py",
   "mimetype": "text/x-python",
   "name": "python",
   "nbconvert_exporter": "python",
   "pygments_lexer": "ipython3",
   "version": "3.6.7"
  }
 },
 "nbformat": 4,
 "nbformat_minor": 2
}
