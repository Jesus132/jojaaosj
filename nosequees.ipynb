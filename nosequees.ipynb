{
 "cells": [
  {
   "cell_type": "code",
   "execution_count": 4,
   "metadata": {},
   "outputs": [
    {
     "name": "stdout",
     "output_type": "stream",
     "text": [
      "[0, 21, 43, 45, 24, 5, 4, 14, 3, 42, 8, 9, 7, 18, 40, 2, 20, 16, 41, 1, 6, 29, 28, 22, 19, 49, 15, 48, 31, 33, 34, 35, 38, 39, 37, 36, 47, 23, 12, 51, 13, 46, 25, 26, 27, 11, 10, 50, 32, 44, 17, 30, 0]\n",
      "9871.079733863908\n"
     ]
    }
   ],
   "source": [
    "import numpy\n",
    "import skfuzzy as fuzz\n",
    "import matplotlib.pyplot as plt\n",
    "from skfuzzy import control as ctrl\n",
    "\n",
    "\n",
    "def Map(T, D, P, CtrlPR):\n",
    "  PR = ctrl.ControlSystemSimulation(CtrlPR)\n",
    "  PR.input['tamanio'] = 77\n",
    "  PR.input['distancia'] = 10\n",
    "\n",
    "  PR.compute()\n",
    "\n",
    "  T.view()\n",
    "  D.view()\n",
    "  P.view(sim=PR)\n",
    "  plt.show()\n",
    "\n",
    "\n",
    "def CaluloPR(T, D, P):\n",
    "  r1 = ctrl.Rule(T['grande'] | D['cerca del centro historico'], P['alto'])\n",
    "  r2 = ctrl.Rule( (D['lejos del centro historico'] & T['mediana']) | (D['lejos del centro historico'] & T['pequenia'])  ,P['medio'])\n",
    "  r3 = ctrl.Rule( (D['afueras de cartagena'] & T['mediana']) | (D['afueras de cartagena'] & T['pequenia'])  ,P['bajo'])\n",
    "\n",
    "  Map(T, D, P, ctrl.ControlSystem([r1, r2, r3]))\n",
    "\n",
    "if __name__ == '__main__':\n",
    "  #Creamos las etiquetas\n",
    "  T = ctrl.Antecedent(numpy.arange(40, 800, 1), 'tamanio')\n",
    "  D = ctrl.Antecedent(numpy.arange(1, 15, 1), 'distancia')\n",
    "  P = ctrl.Consequent(numpy.arange(70,3000 , 1), 'precio')\n",
    "  #Agregamos los valores dados\n",
    "  T['pequenia'] = fuzz.trapmf(T.universe, [40, 60, 80, 90])\n",
    "  T['mediana'] = fuzz.trapmf(T.universe, [80, 100, 200, 220])\n",
    "  T['grande'] = fuzz.trapmf(T.universe, [180, 400, 600, 810])\n",
    "\n",
    "  D['cerca del centro historico'] = fuzz.trimf(D.universe, [1, 4, 7])\n",
    "  D['lejos del centro historico'] = fuzz.trimf(D.universe, [5, 10, 12])\n",
    "  D['afueras de cartagena'] = fuzz.trimf(D.universe, [11, 13, 16])\n",
    "\n",
    "  P['bajo'] = fuzz.trapmf(P.universe, [60, 70, 80,90])\n",
    "  P['medio'] = fuzz.trapmf(P.universe, [80, 120, 150, 200])\n",
    "  P['alto'] = fuzz.trapmf(P.universe, [180, 200, 600, 3050])\n",
    "  #Calculamos\n",
    "  CaluloPR(T, D, P) \n"
   ]
  },
  {
   "cell_type": "code",
   "execution_count": null,
   "metadata": {},
   "outputs": [],
   "source": []
  }
 ],
 "metadata": {
  "kernelspec": {
   "display_name": "Python 3",
   "language": "python",
   "name": "python3"
  },
  "language_info": {
   "codemirror_mode": {
    "name": "ipython",
    "version": 3
   },
   "file_extension": ".py",
   "mimetype": "text/x-python",
   "name": "python",
   "nbconvert_exporter": "python",
   "pygments_lexer": "ipython3",
   "version": "3.7.3"
  }
 },
 "nbformat": 4,
 "nbformat_minor": 4
}
